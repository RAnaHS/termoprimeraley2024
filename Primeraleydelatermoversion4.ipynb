{
 "cells": [
  {
   "cell_type": "markdown",
   "id": "b2bf3d30-2002-4fa3-90bb-ba9c35745138",
   "metadata": {},
   "source": [
    "<div style=\"background-color: Gainsboro; font-family:Times New Roman; text-align:right; \">\n",
    "Área de fisicoquímica<br>Escuela de Ingeniería Química<br>Facultad de Ingeniería<br>Universidad de San Carlos de Guatemala\n",
    "</div>"
   ]
  },
  {
   "cell_type": "markdown",
   "id": "67f5f56b-5187-4bba-899f-736f0a5a5799",
   "metadata": {},
   "source": [
    "<div style=\"background-color: PowderBlue\">\n",
    "    \n",
    "# <h1 style=\"color: black; font-family:Segoe UI;font-size:2em;text-align:center;\">Primera ley de la termodinámica</h1>\n",
    "#\n",
    "</div>\n",
    "<div style=\"background-color: LemonChiffon; font-family:Segoe UI;font-size:1em \">\n",
    "La primera ley de la termodinámica no es nueva para nosotros, ya la hemos estudiado en otros cursos, por ejemplo en Física. La primera ley de la termodinámica nos dice que un sistema intercambia energía con sus alrededores, es decir puede recibir energía de los alrededores o transferir energía a los alrededores. El cambio de energía del sistema puede ser expresada con una ecuación, que representa su balance de energía:\n",
    "</div>\n",
    "<div style=\"background-color: LemonChiffon; font-family:Segoe UI;font-size:1m; text-align:center; \">\n",
    "$ΔE=ΔE_{K}+ΔE_{P}+ΔU$\n",
    "</div>\n",
    "<div style=\"background-color: LemonChiffon; font-family:Segoe UI;font-size:1em \">\n",
    "Esta ecuación nos permite ver que el cambio en la energía del sistema se puede atribuir a cambios en la energía cinética $(E_{K})$, potencial $(E_{P})$ y en la energía interna del sistema $(U)$.\n",
    "</div>\n",
    "<div style=\"background-color: LemonChiffon; font-family:Segoe UI;font-size:1em \">    \n",
    "Recordemos algunos ejemplos en donde hemos evaluado la primera ley de la termodinámica. Por ejemplo, en la siguiente animación al hacer clic en play puedes hacer que el carro se mueva. ¿Qué necesita este sistema para moverse?\n",
    "</div>"
   ]
  },
  {
   "cell_type": "code",
   "execution_count": 1,
   "id": "b1536ada-d394-40bb-972e-4f89391063f7",
   "metadata": {},
   "outputs": [],
   "source": [
    "import matplotlib.pyplot as plt\n",
    "import numpy as np\n",
    "import sympy as sp\n",
    "import ipywidgets as ip\n",
    "from ipywidgets import interact\n",
    "from ipywidgets import widgets\n",
    "from numpy import *\n",
    "from matplotlib.pyplot import *"
   ]
  },
  {
   "cell_type": "code",
   "execution_count": 3,
   "id": "d13b0bb2-0634-4e3b-86fa-66e73f064816",
   "metadata": {},
   "outputs": [
    {
     "data": {
      "application/vnd.jupyter.widget-view+json": {
       "model_id": "abe905f7ae9643db963bc064be4a0ebe",
       "version_major": 2,
       "version_minor": 0
      },
      "text/plain": [
       "interactive(children=(Play(value=0, description='x', max=15), Output()), _dom_classes=('widget-interact',))"
      ]
     },
     "metadata": {},
     "output_type": "display_data"
    },
    {
     "data": {
      "text/plain": [
       "<function __main__.carro(x)>"
      ]
     },
     "execution_count": 3,
     "metadata": {},
     "output_type": "execute_result"
    }
   ],
   "source": [
    "def carro(x):\n",
    "    plt.xlim(xmin=0, xmax=13)\n",
    "    plt.ylim(ymin=0, ymax=10)\n",
    "    rect = Rectangle((0.5+x,1),1.5,1,color='lightcoral',ec='black')\n",
    "    circ=Circle((0.7+x,1),0.15,color='darkgrey',ec='black')\n",
    "    circ2=Circle((1.8+x,1),0.15,color='darkgrey',ec='black')\n",
    "    plt.gca().add_patch(rect);\n",
    "    plt.gca().add_patch(circ);\n",
    "    plt.gca().add_patch(circ2); \n",
    "    plt.gca().annotate('44',xy=(1+x,1.5));\n",
    "    plt.gca().set_xticks([])\n",
    "    plt.gca().set_yticks([])\n",
    "    car = plt.show()\n",
    "    display(car)\n",
    "\n",
    "widgets.interact(carro, x=widgets.Play(min=0, max=15))"
   ]
  },
  {
   "cell_type": "markdown",
   "id": "8ebe5436-91c3-4dae-b32b-84da6c3a61eb",
   "metadata": {},
   "source": [
    "<div style=\"font-family:Segoe UI;background-color:gainsboro;font-size:1em \">\n",
    "En el caso del carro ¿qué tipo de energía debe tomarse en cuenta en el balance? ¿Energía cinética $(E_{K})$? ¿Energía potencial $(E_{P})$? ¿Energía interna $(U)$? \n",
    "</div>\n",
    "<div style=\"font-family:Segoe UI;background-color:gainsboro;font-size:1em; text-align:center; \">\n",
    "$ΔE=ΔE_{K}+ΔE_{P}+ΔU$\n",
    "</div>"
   ]
  },
  {
   "cell_type": "code",
   "execution_count": 20,
   "id": "41143642-8f5c-44e4-b657-e612c82295d7",
   "metadata": {},
   "outputs": [
    {
     "data": {
      "application/vnd.jupyter.widget-view+json": {
       "model_id": "3c10b3075e2148b9a29558b79a4d8cd4",
       "version_major": 2,
       "version_minor": 0
      },
      "text/plain": [
       "interactive(children=(RadioButtons(description=' ', options=('Energía cinética', 'Energía potencial', 'Energía…"
      ]
     },
     "metadata": {},
     "output_type": "display_data"
    }
   ],
   "source": [
    "def balancenuevo1 (tipos):\n",
    "    \n",
    "    if tipos == 'Energía cinética':\n",
    "        print('ΔE=ΔEk Correcto, el sistema experimenta un cambio en su energía cinética, pues intercambia energía con su entorno, en este caso la quema del combustible')\n",
    "    if tipos == 'Energía potencial':\n",
    "        print('Incorrecto, el carro no cambia su posición dentro de un campo de fuerza (por ejemplo el campo gravitacional)')\n",
    "    if tipos == 'Energía interna':\n",
    "        print('Incorrecto, aunque la energía cinética del carro si cambia, la energía interna de las partículas del carro no se altera ')\n",
    "    if tipos == 'Energía cinética y potencial':\n",
    "        print('Incorrecto, la energía cinética si cambia, pero la potencial no')\n",
    "    else:\n",
    "        print (' ')\n",
    "   \n",
    "        \n",
    "ener= ['Energía cinética','Energía potencial','Energía interna','Energía cinética y potencial']\n",
    "interact(balancenuevo1, tipos=widgets.RadioButtons(options=ener,disabled=False, value=None, index=None, label=None, description=' '));"
   ]
  },
  {
   "cell_type": "markdown",
   "id": "1e5b8df9-0cca-46b7-84da-db9276043149",
   "metadata": {},
   "source": [
    "<div style=\"font-family:Segoe UI;background-color:gainsboro;font-size:1em \">\n",
    "Ahora veamos el caso de una pelota que va cayendo, puedes hacer que se mueva haciendo clic en play.\n",
    "</div>"
   ]
  },
  {
   "cell_type": "code",
   "execution_count": 22,
   "id": "03e430fc-b690-4d55-bea4-e48ae84127bf",
   "metadata": {},
   "outputs": [
    {
     "data": {
      "application/vnd.jupyter.widget-view+json": {
       "model_id": "8555e2b1e58946fa9a34bf62774061a5",
       "version_major": 2,
       "version_minor": 0
      },
      "text/plain": [
       "interactive(children=(Play(value=0, description='x', max=9), Output()), _dom_classes=('widget-interact',))"
      ]
     },
     "metadata": {},
     "output_type": "display_data"
    },
    {
     "data": {
      "text/plain": [
       "<function __main__.ball(x)>"
      ]
     },
     "execution_count": 22,
     "metadata": {},
     "output_type": "execute_result"
    }
   ],
   "source": [
    "def ball(x): \n",
    "    plt.rcParams['figure.figsize']=(6,6)\n",
    "    plt.xlim(xmin=0, xmax=10)\n",
    "    plt.ylim(ymin=0, ymax=10)\n",
    "    circulo=Circle((5,9.5-x),0.5,color='coral',ec='black')\n",
    "    plt.gca().add_patch(circulo);\n",
    "    plt.gca().annotate('W',xy=(4.83,9.4-x));\n",
    "    plt.gca().set_xticks([])\n",
    "    plt.gca().set_yticks([])\n",
    "    ball = plt.show()\n",
    "    display(ball)\n",
    "\n",
    "widgets.interact(ball, x=widgets.Play(min=0, max=9.5))"
   ]
  },
  {
   "cell_type": "markdown",
   "id": "ac52b1eb-ed9a-4c4c-a65a-4479a85401c3",
   "metadata": {},
   "source": [
    "<div style=\"font-family:Segoe UI;background-color:gainsboro;font-size:1em \">\n",
    "En el caso de la pelota ¿qué tipo de energía debe tomarse en cuenta en su balance de energía? ¿Energía cinética $(E_{K})$? ¿Energía potencial $(E_{P})$? ¿Energía interna $(U)$? \n",
    "</div>\n",
    "<div style=\"font-family:Segoe UI;background-color:gainsboro;font-size:1em; text-align:center; \">\n",
    "$ΔE=ΔE_{K}+ΔE_{P}+ΔU$\n",
    "</div>"
   ]
  },
  {
   "cell_type": "code",
   "execution_count": 8,
   "id": "f88159ef-6dd7-4b2b-9d64-ea6980c1abed",
   "metadata": {},
   "outputs": [
    {
     "data": {
      "application/vnd.jupyter.widget-view+json": {
       "model_id": "4f6db171bc894f63885207859a4f7063",
       "version_major": 2,
       "version_minor": 0
      },
      "text/plain": [
       "interactive(children=(RadioButtons(description=' ', options=('Energía cinética', 'Energía potencial', 'Energía…"
      ]
     },
     "metadata": {},
     "output_type": "display_data"
    }
   ],
   "source": [
    "def balancenuevo2 (alt):\n",
    "    \n",
    "    if alt == 'Energía cinética y potencial':\n",
    "        print('Correcto, el sistema experimenta un cambio en su energía cinética, y un cambio en su energía potencial ΔE=ΔEk+ΔEp ')\n",
    "\n",
    "    if alt == 'Energía potencial':\n",
    "      print('Incorrecto, la energía cinética de la pelota también cambia')\n",
    "\n",
    "    if alt =='Energía interna':\n",
    "      print('Incorrecto, la energía interna de la pelota no cambia, es decir no hay cambio en la energía de las partículas que forman la pelota')\n",
    "    \n",
    "    if alt == 'Energía cinética':\n",
    "        print('Incorrecto, la energía potencial de la pelota también cambia ')\n",
    "    else:\n",
    "        print (' ')\n",
    "        \n",
    "op= ['Energía cinética','Energía potencial','Energía interna','Energía cinética y potencial']\n",
    "interact(balancenuevo2, alt=widgets.RadioButtons(options=op,disabled=False, value=None, index=None, label=None, description=' '));"
   ]
  },
  {
   "cell_type": "markdown",
   "id": "495ff334-567f-4dd6-8611-0126734d525f",
   "metadata": {},
   "source": [
    "<div style=\"font-family:Segoe UI;background-color:gainsboro;font-size:1em \">\n",
    "Compara los escenarios anteriores con el siguiente ejemplo en el que el agua (en fase líquida) dentro de un beaker se pone en contacto con una estufa eléctrica. ¿Qué sucede con el agua cuando se enciende la estufa?\n",
    "</div>\n",
    "<div style=\"font-family:Segoe UI;background-color:gainsboro;font-size:1em; text-align:center; \">\n",
    "</div>"
   ]
  },
  {
   "cell_type": "code",
   "execution_count": 26,
   "id": "82d2c7b5-685a-4b92-9f51-dbc288d84a2e",
   "metadata": {},
   "outputs": [
    {
     "data": {
      "application/vnd.jupyter.widget-view+json": {
       "model_id": "85b5e98757994d628d1a870601bfffc4",
       "version_major": 2,
       "version_minor": 0
      },
      "text/plain": [
       "interactive(children=(Checkbox(value=False, description='ON'), Output()), _dom_classes=('widget-interact',))"
      ]
     },
     "metadata": {},
     "output_type": "display_data"
    }
   ],
   "source": [
    "def cilindro (ON=False):\n",
    "    \n",
    "    if ON:\n",
    "        x= np.array([5,6,7,8])\n",
    "        y= np.array([10,10,10,10])\n",
    "        plt.plot(x,y,color='black')\n",
    "        e= np.array([5,6,7,8])\n",
    "        i= np.array([50,50,50,50])\n",
    "        plt.plot(e,i,color='black')\n",
    "        plt.fill_between(x,i,y, alpha=0.25)\n",
    "        a= np.array([5,5,5])\n",
    "        b= np.array([10,18,60])\n",
    "        plt.plot(a, b, color='black')\n",
    "        z= np.array([8,8,8])\n",
    "        w= np.array([10,18,60])\n",
    "        plt.plot(z, w, color='black')\n",
    "        plt.xlim(xmin=0, xmax=13)\n",
    "        plt.ylim(ymin=0, ymax=100)\n",
    "        plt.ylabel(\"Volumen (L)\")\n",
    "        plt.gca().set_xticks([])\n",
    "        plt.gca().set_yticks([])\n",
    "        plt.title(\"Estado 2\")\n",
    "        rect = Rectangle((4,0),5,10,color='lightcoral',ec='black')\n",
    "        plt.gca().add_patch(rect)\n",
    "        plt.gca().annotate('Estufa ON',xy=(5.5,2));\n",
    "        graf4 = plt.show()\n",
    "        display(graf4)\n",
    "        \n",
    "    else:\n",
    "        x= np.array([5,6,7,8])\n",
    "        y= np.array([10,10,10,10])\n",
    "        plt.plot(x,y,color='black')\n",
    "        e= np.array([5,6,7,8])\n",
    "        i= np.array([30,30,30,30])\n",
    "        plt.plot(e,i,color='black')\n",
    "        plt.fill_between(x,i,y, alpha=0.25)\n",
    "        a= np.array([5,5,5])\n",
    "        b= np.array([10,18,60])\n",
    "        plt.plot(a, b, color='black')\n",
    "        z= np.array([8,8,8])\n",
    "        w= np.array([10,18,60])\n",
    "        plt.plot(z, w, color='black')\n",
    "        plt.xlim(xmin=0, xmax=13)\n",
    "        plt.ylim(ymin=0, ymax=100)\n",
    "        plt.ylabel(\"Volumen (L)\")\n",
    "        plt.gca().set_xticks([])\n",
    "        plt.gca().set_yticks([])\n",
    "        plt.title(\"Estado 1\")\n",
    "        rect = Rectangle((4,0),5,10,color='lightgrey',ec='black')\n",
    "        plt.gca().add_patch(rect)\n",
    "        plt.gca().annotate('Estufa OFF',xy=(5.5,2));\n",
    "        graf3 = plt.show()\n",
    "        display(graf3)\n",
    "        \n",
    "widgets.interact(cilindro, ON=False);"
   ]
  },
  {
   "cell_type": "markdown",
   "id": "25f480bf-298d-4079-8b7b-7d38d6843a38",
   "metadata": {},
   "source": [
    "$$\\require{cancel}$$  \n",
    "<div style=\"font-family:Segoe UI;background-color:gainsboro;font-size:1em \">\n",
    "El sistema, en este caso el beaker no se desplaza a ningún lugar como el automóvil, por lo que no hay cambio en su energía cinética. <br>\n",
    "</div>\n",
    "<div style=\"font-family:Segoe UIn;background-color:gainsboro;font-size:1em; text-align:center; \">\n",
    "$ΔE=\\cancel{ΔE_{K}}+ΔE_{P}+ΔU$\n",
    "</div>\n",
    "<div style=\"font-family:Segoe UI;background-color:gainsboro;font-size:1em \">\n",
    "El beaker no cambia de posición respecto a un campo de fuerza, esto implica que no hay cambio en su energía potencial. <br>\n",
    "</div>\n",
    "<div style=\"font-family:Segoe UI;background-color:gainsboro;font-size:1em; text-align:center; \">\n",
    "$ΔE=\\cancel{ΔE_{K}}+\\cancel{ΔE_{P}}+ΔU$\n",
    "</div>\n",
    "<div style=\"font-family:Segoe UI;background-color:gainsboro;font-size:1em \">\n",
    "Es decir que sólo hay cambio en la energía interna del sistema. <br>\n",
    "</div>\n",
    "<div style=\"font-family:Segoe UI;background-color:gainsboro;font-size:1em; text-align:center; \">\n",
    "$ΔE=ΔU$  \n",
    "</div>\n",
    "<div style=\"font-family:Segoe UI;background-color:gainsboro;font-size:1em \">\n",
    "¿Qué quiere decir esto?\n",
    "</div>\n"
   ]
  },
  {
   "cell_type": "markdown",
   "id": "5a013426-8cb1-43e9-b6a8-9f6b92f102c4",
   "metadata": {},
   "source": [
    "<div style=\"font-family:Segoe UI;background-color:gainsboro;font-size:1em \">\n",
    "Al encender la estufa, esta transfiere energía forma de calor al agua. Esta energía hace que las moléculas del agua se muevan más rápidamente, es decir a nivel microscópico la energía cinética de las moléculas de agua aumenta (observa en las animaciones la diferencia en la velocidad de movimiento de las partículas).  \n",
    "</div>\n",
    "<div style=\"font-family:Segoe UI;background-color:gainsboro;font-size:1em; text-align:center; \">\n",
    "$ΔE=ΔU$  \n",
    "</div>"
   ]
  },
  {
   "cell_type": "code",
   "execution_count": 5,
   "id": "a759be5b-e006-4531-9adf-9cb225d1471d",
   "metadata": {},
   "outputs": [
    {
     "data": {
      "application/vnd.jupyter.widget-view+json": {
       "model_id": "e6142750e7364563a09ecc78e3b6065a",
       "version_major": 2,
       "version_minor": 0
      },
      "text/plain": [
       "interactive(children=(Play(value=0, description='t', interval=1500, max=5), Output()), _dom_classes=('widget-i…"
      ]
     },
     "metadata": {},
     "output_type": "display_data"
    },
    {
     "data": {
      "text/plain": [
       "<function __main__.mol(t)>"
      ]
     },
     "execution_count": 5,
     "metadata": {},
     "output_type": "execute_result"
    }
   ],
   "source": [
    "def mol(t):\n",
    "    fig, (ax1, ax2) = plt.subplots(1,2)\n",
    "    x= np.array([4,6,7,10])\n",
    "    y= np.array([2,2,2,2])\n",
    "    ax1.plot(x,y,color='black')\n",
    "    e= np.array([4,6,7,10])\n",
    "    i= np.array([5,5,5,5])\n",
    "    ax1.plot(e,i,color='black')\n",
    "    ax1.fill_between(x,i,y, alpha=0.25)\n",
    "    a= np.array([4,4,4])\n",
    "    b= np.array([2,5,12])\n",
    "    ax1.plot(a, b, color='black')\n",
    "    z= np.array([10,10,10])\n",
    "    w= np.array([2,5,12])\n",
    "    ax1.plot(z, w, color='black')\n",
    "    ax1.set_ylabel(\"Volumen (L)\")\n",
    "    rect = Rectangle((2,0),10,2,color='lightgrey',ec='black')\n",
    "    ax1.add_patch(rect)\n",
    "    ax1.annotate('Estufa OFF',xy=(5,0.5))\n",
    "    ax1.set_aspect(1)\n",
    "    ax1.set_xlim(0, 14)\n",
    "    ax1.set_ylim(0, 14)\n",
    "    ax1.set_xticks([])\n",
    "    ax1.set_yticks([])\n",
    "    ax1.set_title(\"Estado 1\")\n",
    "    ax2.set_xlim(0, 1)\n",
    "    ax2.set_ylim(0, 1)\n",
    "    ax2.set_xticks([])\n",
    "    ax2.set_yticks([])\n",
    "    ax2.set_title(\"Moléculas de agua\")\n",
    "    ax2.set_aspect(1);\n",
    "    m = np.random.rand(100)\n",
    "    n = np.random.rand(100)\n",
    "    if t==0:\n",
    "        ax2.scatter(m,n, color ='lightskyblue')\n",
    "    if t==1:\n",
    "        ax2.scatter(m,n, color ='lightskyblue')\n",
    "    if t==2:\n",
    "        ax2.scatter(m,n, color ='lightskyblue')\n",
    "    if t==3:\n",
    "        ax2.scatter(m,n, color ='lightskyblue')\n",
    "    if t==4:\n",
    "        ax2.scatter(m,n, color ='lightskyblue')\n",
    "    if t==5:\n",
    "        ax2.scatter(m,n, color ='lightskyblue')\n",
    "\n",
    "widgets.interact(mol, t=widgets.Play(min=0, max=5, interval=1500))\n"
   ]
  },
  {
   "cell_type": "code",
   "execution_count": 3,
   "id": "85553e4f-6de8-4dc7-8ac3-c05ea5b12d4a",
   "metadata": {},
   "outputs": [
    {
     "data": {
      "application/vnd.jupyter.widget-view+json": {
       "model_id": "0a8bc40268324fc7bb6a7f2b6c6709a3",
       "version_major": 2,
       "version_minor": 0
      },
      "text/plain": [
       "interactive(children=(Play(value=0, description='s', interval=50, max=11), Output()), _dom_classes=('widget-in…"
      ]
     },
     "metadata": {},
     "output_type": "display_data"
    },
    {
     "data": {
      "text/plain": [
       "<function __main__.dot(s)>"
      ]
     },
     "execution_count": 3,
     "metadata": {},
     "output_type": "execute_result"
    }
   ],
   "source": [
    "def dot(s):\n",
    "    fig, (ax1, ax2) = plt.subplots(1,2)\n",
    "    x= np.array([4,6,7,10])\n",
    "    y= np.array([2,2,2,2])\n",
    "    ax1.plot(x,y,color='black')\n",
    "    e= np.array([4,6,7,10])\n",
    "    i= np.array([10,10,10,10])\n",
    "    ax1.plot(e,i,color='black')\n",
    "    ax1.fill_between(x,i,y, alpha=0.25)\n",
    "    a= np.array([4,4,4])\n",
    "    b= np.array([2,5,12])\n",
    "    ax1.plot(a, b, color='black')\n",
    "    z= np.array([10,10,10])\n",
    "    w= np.array([2,5,12])\n",
    "    ax1.plot(z, w, color='black')\n",
    "    ax1.set_ylabel(\"Volumen (L)\")\n",
    "    rect = Rectangle((2,0),10,2,color='lightcoral',ec='black')\n",
    "    ax1.add_patch(rect)\n",
    "    ax1.annotate('Estufa ON',xy=(5,0.5))\n",
    "    ax1.set_aspect(1)\n",
    "    ax1.set_xlim(0, 14)\n",
    "    ax1.set_ylim(0, 14)\n",
    "    ax1.set_xticks([])\n",
    "    ax1.set_yticks([])\n",
    "    ax1.set_title(\"Estado 2\")\n",
    "    ax2.set_xlim(0, 1)\n",
    "    ax2.set_ylim(0, 1)\n",
    "    ax2.set_xticks([])\n",
    "    ax2.set_yticks([])\n",
    "    ax2.set_title(\"Moléculas de agua\")\n",
    "    ax2.set_aspect(1);\n",
    "    m = np.random.rand(100)\n",
    "    n = np.random.rand(100)\n",
    "    if s==0:\n",
    "        ax2.scatter(m,n, color ='lightskyblue')\n",
    "    if s==1:\n",
    "        ax2.scatter(m,n, color ='lightskyblue')\n",
    "    if s==2:\n",
    "        ax2.scatter(m,n, color ='lightskyblue')\n",
    "    if s==3:\n",
    "        ax2.scatter(m,n, color ='lightskyblue')\n",
    "    if s==4:\n",
    "        ax2.scatter(m,n, color ='lightskyblue')\n",
    "    if s==5:\n",
    "        ax2.scatter(m,n, color ='lightskyblue')\n",
    "    if s==6:\n",
    "        plt.scatter(m,n, color ='lightskyblue')\n",
    "    if s==7:\n",
    "        plt.scatter(m,n, color ='lightskyblue')\n",
    "    if s==8:\n",
    "        plt.scatter(m,n, color ='lightskyblue')\n",
    "    if s==9:\n",
    "        plt.scatter(m,n, color ='lightskyblue')\n",
    "    if s==10:\n",
    "        plt.scatter(m,n, color ='lightskyblue')\n",
    "    if s==11:\n",
    "        plt.scatter(m,n, color ='lightskyblue')\n",
    "\n",
    "widgets.interact(dot, s=widgets.Play(min=0, max=11, interval=50))"
   ]
  },
  {
   "cell_type": "markdown",
   "id": "7b089e1c-9a0b-4c7b-8469-5176835ea8af",
   "metadata": {},
   "source": [
    "<div style=\"font-family:Segoe UI;background-color:gainsboro;font-size:1em \">\n",
    "La transferencia de energía en forma de calor está provocando un cambio en la energía interna del sistema.\n",
    "</div>\n",
    "<div style=\"font-family:Segoe UI;background-color:gainsboro;font-size:1em; text-align:center; \">\n",
    "${U}_{1}<{U}_{2}$ \n",
    "</div>\n",
    "<div style=\"font-family:Segoe UI;background-color:gainsboro;font-size:1em \">\n",
    "El calor está provocando que la energía interna del segundo estado sea mayor que la energía interna del primer estado.\n",
    "</div>"
   ]
  },
  {
   "cell_type": "markdown",
   "id": "865cbc3d-d146-477c-a86b-8ec65a685c8a",
   "metadata": {},
   "source": [
    "<div style=\"font-family:Segoe UI;background-color:gainsboro;font-size:1em \">\n",
    "Pero el calor no es la única forma en que la energía se está transfiriendo. Observemos que sucede con el volumen del agua en el beaker.\n",
    "</div>"
   ]
  },
  {
   "cell_type": "code",
   "execution_count": 34,
   "id": "62e67a78-a595-4e6a-abb7-9c7569876009",
   "metadata": {},
   "outputs": [
    {
     "data": {
      "text/plain": [
       "Text(0.5, 1.0, 'Estado 2')"
      ]
     },
     "execution_count": 34,
     "metadata": {},
     "output_type": "execute_result"
    },
    {
     "data": {
      "image/png": "[encoded data removed]",
      "text/plain": [
       "<Figure size 600x600 with 2 Axes>"
      ]
     },
     "metadata": {},
     "output_type": "display_data"
    }
   ],
   "source": [
    "fig, (ax1, ax2) = plt.subplots(1,2)\n",
    "m= np.array([4,6,7,10])\n",
    "n= np.array([2,2,2,2])\n",
    "ax1.plot(m,n,color='black')\n",
    "f= np.array([4,6,7,10])\n",
    "g= np.array([5,5,5,5])\n",
    "ax1.plot(f,g,color='black')\n",
    "ax1.fill_between(m,g,n, alpha=0.25)\n",
    "l= np.array([4,4,4])\n",
    "k= np.array([2,5,12])\n",
    "ax1.plot(l, k, color='black')\n",
    "u= np.array([10,10,10])\n",
    "t= np.array([2,5,12])\n",
    "ax1.plot(u, t, color='black')\n",
    "ax1.set_ylabel(\"Volumen (L)\")\n",
    "rect = Rectangle((2,0),10,2,color='lightgrey',ec='black')\n",
    "ax1.add_patch(rect)\n",
    "ax1.annotate('Estufa OFF',xy=(5,0.5))\n",
    "ax1.set_aspect(1)\n",
    "ax1.set_xlim(0, 14)\n",
    "ax1.set_ylim(0, 14)\n",
    "ax1.set_xticks([])\n",
    "ax1.set_yticks([])\n",
    "ax1.set_title(\"Estado 1\")\n",
    "x= np.array([4,6,7,10])\n",
    "y= np.array([2,2,2,2])\n",
    "ax2.plot(x,y,color='black')\n",
    "e= np.array([4,6,7,10])\n",
    "i= np.array([10,10,10,10])\n",
    "ax2.plot(e,i,color='black')\n",
    "ax2.fill_between(x,i,y, alpha=0.25)\n",
    "a= np.array([4,4,4])\n",
    "b= np.array([2,5,12])\n",
    "ax2.plot(a, b, color='black')\n",
    "z= np.array([10,10,10])\n",
    "w= np.array([2,5,12])\n",
    "ax2.plot(z, w, color='black')\n",
    "ax2.set_ylabel(\"Volumen (L)\")\n",
    "rect = Rectangle((2,0),10,2,color='lightcoral',ec='black')\n",
    "ax2.add_patch(rect)\n",
    "ax2.annotate('Estufa ON',xy=(5,0.5))\n",
    "ax2.set_aspect(1)\n",
    "ax2.set_xlim(0, 14)\n",
    "ax2.set_ylim(0, 14)\n",
    "ax2.set_xticks([])\n",
    "ax2.set_yticks([])\n",
    "ax2.set_title(\"Estado 2\")\n"
   ]
  },
  {
   "cell_type": "markdown",
   "id": "061051e0-8fd5-4adf-aef0-e946fbe79e1e",
   "metadata": {},
   "source": [
    "<div style=\"font-family:Segoe UI;background-color:gainsboro;font-size:1em \">\n",
    "A nivel microcópico podríamos observar que las moléculas de agua \"empujan\" a las moléculas de aire, logran hacer esto pues se está tranfiriendo energía, en este caso en forma de trabajo mecánico.\n",
    "</div>"
   ]
  },
  {
   "cell_type": "code",
   "execution_count": 36,
   "id": "fc7488ab-f8fc-4d45-ba08-fec7130ccc04",
   "metadata": {},
   "outputs": [
    {
     "data": {
      "application/vnd.jupyter.widget-view+json": {
       "model_id": "b065036036e843e79549831bf2e93cd4",
       "version_major": 2,
       "version_minor": 0
      },
      "text/plain": [
       "interactive(children=(Play(value=0, description='y', max=1), Output()), _dom_classes=('widget-interact',))"
      ]
     },
     "metadata": {},
     "output_type": "display_data"
    },
    {
     "data": {
      "text/plain": [
       "<function __main__.work(y)>"
      ]
     },
     "execution_count": 36,
     "metadata": {},
     "output_type": "execute_result"
    }
   ],
   "source": [
    "def work(y):\n",
    "    k=[0.5,0.625,0.75,0.875,1,1.125,1.25,1.375,1.5,1.625,1.75,1.875,2,2.125,2.25,2.375,2.5,2.625,2.75,2.875,3,3.125,3.25,3.375,3.5]\n",
    "    j=[1.8+y,1.8+y,1.8+y,1.8+y,1.8+y,1.8+y,1.8+y,1.8+y,1.8+y,1.8+y,1.8+y,1.8+y,1.8+y,1.8+y,1.8+y,1.8+y,1.8+y,1.8+y,1.8+y,1.8+y,1.8+y,1.8+y,1.8+y,1.8+y,1.8+y]\n",
    "    a=[0.5,0.625,0.75,0.875,1,1.125,1.25,1.375,1.5,1.625,1.75,1.875,2,2.125,2.25,2.375,2.5,2.625,2.75,2.875,3,3.125,3.25,3.375,3.5]\n",
    "    b=[2+y,2+y,2+y,2+y,2+y,2+y,2+y,2+y,2+y,2+y,2+y,2+y,2+y,2+y,2+y,2+y,2+y,2+y,2+y,2+y,2+y,2+y,2+y,2+y,2+y]\n",
    "    e=[0.5,0.625,0.75,0.875,1,1.125,1.25,1.375,1.5,1.625,1.75,1.875,2,2.125,2.25,2.375,2.5,2.625,2.75,2.875,3,3.125,3.25,3.375,3.5]\n",
    "    f=[1.9+y,1.9+y,1.9+y,1.9+y,1.9+y,1.9+y,1.9+y,1.9+y,1.9+y,1.9+y,1.9+y,1.9+y,1.9+y,1.9+y,1.9+y,1.9+y,1.9+y,1.9+y,1.9+y,1.9+y,1.9+y,1.9+y,1.9+y,1.9+y,1.9+y]\n",
    "    c=[0.5,0.75,1,1.25,1.5,1.75,2,2.25,2.5,2.75,3,3.25,3.5]\n",
    "    d=[2.1+y,2.1+y,2.1+y,2.1+y,2.1+y,2.1+y,2.1+y,2.1+y,2.1+y,2.1+y,2.1+y,2.1+y,2.1+y]\n",
    "    i=[0.5,0.75,1,1.25,1.5,1.75,2,2.25,2.5,2.75,3,3.25,3.5]\n",
    "    z=[2.2+y,2.2+y,2.2+y,2.2+y,2.2+y,2.2+y,2.2+y,2.2+y,2.2+y,2.2+y,2.2+y,2.2+y,2.2+y]\n",
    "    n=[0.5,0.75,1,1.25,1.5,1.75,2,2.25,2.5,2.75,3,3.25,3.5]\n",
    "    m=[2.4+y,2.4+y,2.4+y,2.4+y,2.4+y,2.4+y,2.4+y,2.4+y,2.4+y,2.4+y,2.4+y,2.4+y,2.4+y]\n",
    "    p=[0.5,0.75,1,1.25,1.5,1.75,2,2.25,2.5,2.75,3,3.25,3.5]\n",
    "    q=[2.8+y,2.8+y,2.8+y,2.8+y,2.8+y,2.8+y,2.8+y,2.8+y,2.8+y,2.8+y,2.8+y,2.8+y,2.8+y]\n",
    "    w=[0.5,0.75,1,1.25,1.5,1.75,2,2.25,2.5,2.75,3,3.25,3.5]\n",
    "    g=[4+y,4+y,4+y,4+y,4+y,4+y,4+y,4+y,4+y,4+y,4+y,4+y,4+y]\n",
    "    plt.scatter(k, j, color='lightskyblue')\n",
    "    plt.scatter(a, b, color='lightskyblue')\n",
    "    plt.scatter(e, f, color='lightskyblue')\n",
    "    plt.scatter(c, d, color='gainsboro')\n",
    "    plt.scatter(i, z, color='gainsboro')\n",
    "    plt.scatter(n, m, color='gainsboro')\n",
    "    plt.scatter(p, q, color='gainsboro')\n",
    "    plt.scatter(w, g, color='gainsboro')\n",
    "    plt.text(3.6,1.8+y,\"Agua\") \n",
    "    plt.text(3.6,2.2+y,\"Aire\") \n",
    "    plt.arrow(1, 1.8, 0, 0.25, width = 0.01)\n",
    "    plt.arrow(2, 1.8, 0, 0.25, width = 0.01)\n",
    "    plt.arrow(3, 1.8, 0, 0.25, width = 0.01)\n",
    "    rect = Rectangle((0.45,0+y),3.10,1.8,color='lightskyblue',ec='lightskyblue')\n",
    "    plt.gca().add_patch(rect);\n",
    "    plt.gca().set_xlim(0, 4)\n",
    "    plt.gca().set_ylim(1.6, 3.5)\n",
    "    plt.gca().set_xticks([])\n",
    "    plt.gca().set_yticks([])\n",
    "    plt.gca().set_aspect(1)\n",
    "\n",
    "widgets.interact(work, y=widgets.Play(min=0, max=1))"
   ]
  },
  {
   "cell_type": "markdown",
   "id": "90fd893c-0f32-4943-b1a2-13d662c52b5c",
   "metadata": {},
   "source": [
    "<div style=\"font-family:Segoe UI;background-color:gainsboro;font-size:1em \">\n",
    "Según esto ¿a qué se atribuye el cambio de energía interna del agua contenida en el beaker?\n",
    "</div>"
   ]
  },
  {
   "cell_type": "code",
   "execution_count": 38,
   "id": "1efa97bb-bd09-4e1e-beec-84ff67980fb1",
   "metadata": {},
   "outputs": [
    {
     "data": {
      "application/vnd.jupyter.widget-view+json": {
       "model_id": "f623d79694a94cb4bb29fc6b7757d922",
       "version_major": 2,
       "version_minor": 0
      },
      "text/plain": [
       "interactive(children=(RadioButtons(description='Intercambio de energía en forma de:', options=('Calor', 'Traba…"
      ]
     },
     "metadata": {},
     "output_type": "display_data"
    }
   ],
   "source": [
    "def f(formas):\n",
    "    if formas=='Calor y trabajo':\n",
    "        print('Respuesta correcta, la energía se está transfiriendo en forma de trabajo mecánico y calor',)\n",
    "    if formas== 'Trabajo':\n",
    "        print('Respuesta incorrecta, además de trabajo mecánico el sistema recibe energía en forma de calor')\n",
    "    if formas== 'Calor':\n",
    "        print('Respuesta incorrecta, además de calor el sistema intercambia energía en forma de trabajo mecánico')\n",
    "    else:\n",
    "        print(' ')\n",
    "\n",
    "\n",
    "trans= ['Calor','Trabajo','Calor y trabajo']\n",
    "interact(f, formas=widgets.RadioButtons(options=trans,disabled=False, value=None, index=None, label=None, description='Intercambio de energía en forma de:'));"
   ]
  },
  {
   "cell_type": "markdown",
   "id": "1aee4f74-f436-4ed9-b24a-583ece17343c",
   "metadata": {},
   "source": [
    "<div style=\"font-family:Segoe UI;background-color:gainsboro;font-size:1em \">\n",
    "Entonces el cambio de energía del sistema se puede expresar como:  \n",
    "</div>\n",
    "<div style=\"font-family:SegoE UI;background-color:gainsboro;font-size:1em; text-align:center; \">\n",
    "$ΔE=ΔU=Q+W$  \n",
    "</div>\n",
    "<div style=\"font-family:Segoe UI;background-color:gainsboro;font-size:1em; text-align:center; \">\n",
    "$ΔU=Q+W$\n",
    "</div>\n",
    "<div style=\"font-family:Segoe UI;background-color:gainsboro;font-size:1em \">\n",
    "O en forma infinitesimal como\n",
    "</div>\n",
    "<div style=\"font-family:Segoe UI;background-color:gainsboro;font-size:1em; text-align:center; \">\n",
    "$dU=dQ+dW$\n",
    "</div>\n"
   ]
  },
  {
   "cell_type": "code",
   "execution_count": 40,
   "id": "53388563-5713-4381-ae03-954b672b2618",
   "metadata": {},
   "outputs": [
    {
     "data": {
      "image/png": "[encoded data removed]",
      "text/plain": [
       "<Figure size 600x600 with 3 Axes>"
      ]
     },
     "metadata": {},
     "output_type": "display_data"
    }
   ],
   "source": [
    "fig, (ax1, ax2,ax3) = plt.subplots(1,3)\n",
    "fig.tight_layout()\n",
    "m= np.array([4,6,7,10])\n",
    "n= np.array([2,2,2,2])\n",
    "ax1.plot(m,n,color='black')\n",
    "f= np.array([4,6,7,10])\n",
    "g= np.array([5,5,5,5])\n",
    "ax1.plot(f,g,color='black')\n",
    "ax1.fill_between(m,g,n, alpha=0.25)\n",
    "l= np.array([4,4,4])\n",
    "k= np.array([2,5,12])\n",
    "ax1.plot(l, k, color='black')\n",
    "u= np.array([10,10,10])\n",
    "t= np.array([2,5,12])\n",
    "ax1.plot(u, t, color='black')\n",
    "ax1.set_ylabel(\"Volumen (L)\")\n",
    "rect = Rectangle((2,0),10,2,color='lightgrey',ec='black')\n",
    "ax1.add_patch(rect)\n",
    "ax1.annotate('Estufa OFF',xy=(5,0.5))\n",
    "ax1.set_aspect(1)\n",
    "ax1.set_xlim(0, 14)\n",
    "ax1.set_ylim(0, 14)\n",
    "ax1.set_xticks([])\n",
    "ax1.set_yticks([])\n",
    "ax1.set_title(\"Estado 1\")\n",
    "x= np.array([4,6,7,10])\n",
    "y= np.array([2,2,2,2])\n",
    "ax2.plot(x,y,color='black')\n",
    "e= np.array([4,6,7,10])\n",
    "i= np.array([10,10,10,10])\n",
    "ax2.plot(e,i,color='black')\n",
    "ax2.fill_between(x,i,y, alpha=0.25)\n",
    "a= np.array([4,4,4])\n",
    "b= np.array([2,5,12])\n",
    "ax2.plot(a, b, color='black')\n",
    "z= np.array([10,10,10])\n",
    "w= np.array([2,5,12])\n",
    "ax2.plot(z, w, color='black')\n",
    "ax2.set_ylabel(\"Volumen (L)\")\n",
    "rect = Rectangle((2,0),10,2,color='lightcoral',ec='black')\n",
    "ax2.add_patch(rect)\n",
    "ax2.annotate('Estufa ON',xy=(5,0.5))\n",
    "ax2.set_aspect(1)\n",
    "ax2.set_xlim(0, 14)\n",
    "ax2.set_ylim(0, 14)\n",
    "ax2.set_xticks([])\n",
    "ax2.set_yticks([])\n",
    "ax2.set_title(\"Estado 2\")\n",
    "trabajo1=-100\n",
    "calor=250\n",
    "energia = \"Trabajo\"\n",
    "energia2 = \"Calor\"\n",
    "ax3.bar(energia, trabajo1, width=0.8, color=\"darkgray\")\n",
    "ax3.bar(energia2, calor, width=0.8, color=\"salmon\")\n",
    "ax3.set_ylim(ymax=300, ymin=-150)\n",
    "ax3.set_ylabel(\"Energía transferida (J)\")\n",
    "plt.subplots_adjust(right=2)\n"
   ]
  },
  {
   "cell_type": "markdown",
   "id": "1731376d-c6b5-4cb0-9b3a-96b0221ad083",
   "metadata": {},
   "source": [
    "<div style=\"font-family:Segoe UI;background-color:gainsboro;font-size:1em \">\n",
    "En este escenario en particular ¿cuál de las siguientes afirmaciones es verdadera respecto al intercambio de energía en forma de calor entre la estufa, el sistema y los alrededores?  \n",
    "</div>"
   ]
  },
  {
   "cell_type": "code",
   "execution_count": 53,
   "id": "8a23574c-4a4d-4adc-88e0-2909d415a4a3",
   "metadata": {},
   "outputs": [
    {
     "data": {
      "application/vnd.jupyter.widget-view+json": {
       "model_id": "6f5bc85d51854c14bcde459056174d85",
       "version_major": 2,
       "version_minor": 0
      },
      "text/plain": [
       "interactive(children=(RadioButtons(description=' ', options=('El sistema recibe energía en forma de calor', 'E…"
      ]
     },
     "metadata": {},
     "output_type": "display_data"
    }
   ],
   "source": [
    "def afi(res):\n",
    "    if res=='El sistema recibe energía en forma de calor':\n",
    "        print('Correcto, el sistema recibe energía en forma de calor de la estufa')\n",
    "    if res== 'El sistema libera energía en forma de calor':\n",
    "        print('Incorrecto, el sistema recibe energía en forma de calor de la estufa') \n",
    "    else:\n",
    "        print(' ')\n",
    "\n",
    "op= ['El sistema recibe energía en forma de calor','El sistema libera energía en forma de calor']\n",
    "interact(afi, res=widgets.RadioButtons(options=op,disabled=False, value=None, index=None, label=None, description=' '));"
   ]
  },
  {
   "cell_type": "markdown",
   "id": "21ae17f7-f15f-48c6-832f-2d55d66069cd",
   "metadata": {},
   "source": [
    "<div style=\"font-family:Segoe UI;background-color:gainsboro;font-size:1em \">\n",
    "En este escenario en particular ¿cuál de las siguientes afirmaciones es verdadera respecto al intercambio de energía en forma de trabajo mecánico entre la estufa, el sistema y los alrededores?  \n",
    "</div>"
   ]
  },
  {
   "cell_type": "code",
   "execution_count": 56,
   "id": "caf39a1f-a255-4558-99d8-986503656226",
   "metadata": {},
   "outputs": [
    {
     "data": {
      "application/vnd.jupyter.widget-view+json": {
       "model_id": "77a9c08034d2473da64951391bd6538b",
       "version_major": 2,
       "version_minor": 0
      },
      "text/plain": [
       "interactive(children=(RadioButtons(description=' ', options=('El sistema recibe trabajo mecánico', 'El sistema…"
      ]
     },
     "metadata": {},
     "output_type": "display_data"
    }
   ],
   "source": [
    "def rec(ta):\n",
    "    if ta=='El sistema recibe trabajo mecánico':\n",
    "        print('Incorrecto, el sistema transfiere energía en forma de trabajo mecánico a los alrededores')\n",
    "    if ta =='El sistema transfiere trabajo mecánico':\n",
    "        print('Corecto, el sistema transfiere energía en forma de trabajo mecánico a los alrededores cuando la sustancia se expande')\n",
    "    else:\n",
    "        print(' ')\n",
    "enu=['El sistema recibe trabajo mecánico','El sistema transfiere trabajo mecánico']\n",
    "interact(rec, ta=widgets.RadioButtons(options=enu,disabled=False, value=None, index=None, label=None, description=' '));\n"
   ]
  },
  {
   "cell_type": "markdown",
   "id": "d9a9d679-b5c6-4acc-aa2c-764bf074a8a2",
   "metadata": {},
   "source": [
    "<div style=\"font-family:Segoe UI;background-color:gainsboro;font-size:1em \">\n",
    "El trabajo mecánico cuando trabajamos con sistemas cerrados se puede expresar como:\n",
    "</div>\n",
    "<div style=\"font-family:Segoe UI;background-color:gainsboro;font-size:1em; text-align:center; \"> \n",
    "$dW=-PdV$ \n",
    "</div>\n",
    "<div style=\"font-family:Segoe UI;background-color:gainsboro;font-size:1em \">\n",
    "En el caso del calor no tenemos una definición matemática que podamos utilizar, por lo que tendremos que plantear matemáticamente el balance de energía y estimar el calor con esta expresión matemática.\n",
    "</div>"
   ]
  },
  {
   "cell_type": "markdown",
   "id": "b3701047-f8a6-4b57-a9b1-9bb406556a5b",
   "metadata": {},
   "source": [
    "<div style=\"font-family:Segoe UI;background-color:gainsboro;font-size:1em \">\n",
    "Veamos el caso de un gas ideal sometido a un proceso isobárico (es decir que se realiza a presión constante). Durante el proceso a presión constante el volumen de la sustancia cambiará. Y podemos estimar cuanta energía se intercambia durante el proceso utilizando la primera ley de la Termodinámica. Matemáticamente, podemos expresar su balance de energía como:\n",
    "</div>\n",
    "<div style=\"font-family:Segoe UI;background-color:gainsboro;font-size:1em; text-align:center; \">\n",
    "$dU=dQ+dW$\n",
    "</div>\n",
    "<div style=\"font-family:Segoe UI;background-color:gainsboro;font-size:1em \">\n",
    "Podríamos empezar evaluando el trabajo mecánico del proceso:\n",
    "</div>\n",
    "<div style=\"font-family:Segoe UI;background-color:gainsboro;font-size:1em; text-align:center; \"> \n",
    "$dW=-PdV$\n",
    "</div>\n",
    "<div style=\"font-family:Segoe UI;background-color:gainsboro;font-size:1em; text-align:center; \"> \n",
    "$\\int\\,dW=-\\int\\,P\\,dV $\n",
    "</div>\n",
    "<div style=\"font-family:Segoe UI;background-color:gainsboro;font-size:1em \">\n",
    "La presión es constante, por lo que sale de la integral, y sólo queda integrar el $dV$ que se convierte en el cambio de volumen (volumen final menos volumen incial):\n",
    "</div>\n",
    "<div style=\"font-family:Segoe UI;background-color:gainsboro;font-size:1em; text-align:center; \"> \n",
    "$W=-PΔV=-P(V_{final}-V_{inicial})$\n",
    "</div>\n",
    "\n"
   ]
  },
  {
   "cell_type": "markdown",
   "id": "333dfc92-3efa-4c5c-9235-8b0e2ee6afd0",
   "metadata": {},
   "source": [
    "<div style=\"font-family:Segoe UI;background-color:gainsboro;font-size:1em \">\n",
    "¿Por qué al integrar el $dW$ obtuvimos $W$ y no $ΔW$?\n",
    "</div>"
   ]
  },
  {
   "cell_type": "code",
   "execution_count": 77,
   "id": "a57ce35f-aa58-463e-8525-d5f3f3294ffa",
   "metadata": {},
   "outputs": [
    {
     "data": {
      "application/vnd.jupyter.widget-view+json": {
       "model_id": "3b2b96084dc845a6a9dc248ac26b76be",
       "version_major": 2,
       "version_minor": 0
      },
      "text/plain": [
       "interactive(children=(RadioButtons(description=' ', options=('El trabajo es una función de trayectoria', 'El t…"
      ]
     },
     "metadata": {},
     "output_type": "display_data"
    }
   ],
   "source": [
    "def tra(ma):\n",
    "    if ma=='El trabajo es una función de trayectoria':\n",
    "        print('Correcto, no hay un cambio de trabajo, sino que energía transferida en forma de trabajo al realizar el proceso')\n",
    "    if ma =='El trabajo es una función de estado':\n",
    "        print('Incorrecto, el trabajo es una función de trayectoria, por lo que se estima la energía transferida en forma de trabajo al realizar el proceso')\n",
    "    else:\n",
    "        print(' ')\n",
    "me=['El trabajo es una función de trayectoria','El trabajo es una función de estado']\n",
    "interact(tra, ma=widgets.RadioButtons(options=me,disabled=False, value=None, index=None, label=None, description=' '));"
   ]
  },
  {
   "cell_type": "markdown",
   "id": "7e083228-99b7-4fc4-b4f7-6579596f3a10",
   "metadata": {},
   "source": [
    "<div style=\"font-family:Segoe UI;background-color:gainsboro;font-size:1em \">\n",
    "Ya que tenemos una expresión para estimar la energía transferida en forma de trabajo, estimemos la que se transfiere en forma de calor, usando la expresión matemática del balance de energía:\n",
    "</div>\n",
    "<div style=\"font-family:Segoe UI;background-color:gainsboro;font-size:1em; text-align:center; \">\n",
    "$dU=dQ+dW$\n",
    "</div>\n",
    "<div style=\"font-family:Segoe UI;background-color:gainsboro;font-size:1em; text-align:center; \">\n",
    "$dQ=dU-dW$\n",
    "</div>\n",
    "<div style=\"font-family:Segoe UI;background-color:gainsboro;font-size:1em \">\n",
    "Para un gas ideal el diferencial de energía interna se expresa como:\n",
    "</div>\n",
    "<div style=\"font-family:Segoe UI;background-color:gainsboro;font-size:1em; text-align:center; \">\n",
    "$dU=C_{v}dT$\n",
    "</div>\n",
    "<div style=\"font-family:Segoe UI;background-color:gainsboro;font-size:1em \">\n",
    "Que en este caso al integrarse daría como resultado:\n",
    "</div>\n",
    "<div style=\"font-family:Segoe UI;background-color:gainsboro;font-size:1em; text-align:center; \">\n",
    "$ΔU=C_{v}ΔT=C_{v}(T_{final}-T_{inicial})$\n",
    "</div>\n",
    "<div style=\"font-family:Segoe UI;background-color:gainsboro;font-size:1em \">\n",
    "Entonces para un gas ideal sometido a un proceso isobárico, la energía transferida en forma de calor se estima como:\n",
    "</div>\n",
    "<div style=\"font-family:Segoe UI;background-color:gainsboro;font-size:1em; text-align:center; \">\n",
    "$Q=ΔU-W=C_{v}(T_{final}-T_{inicial})-(-P(V_{final}-V_{inicial}))$\n",
    "</div>\n",
    "\n"
   ]
  },
  {
   "cell_type": "markdown",
   "id": "590a4bbe-c7f1-4225-b778-fb165525a0df",
   "metadata": {},
   "source": [
    "<div style=\"font-family:Segoe UI;background-color:gainsboro;font-size:1em \">\n",
    "A continuación, puedes evaluar que sucede con un gas ideal que se somete a un proceso isobárico reversible. Puedes escoger el rango de volumen entre 5 y 20 L/mol y una presión entre 70 y 500 kPa. Además, en la gráfica PV se muestra el resaltada el área bajo la curva, que representa el trabajo mecánico del proceso. Observa lo que sucede con las barras que representan la energía transferida en forma de calor y trabajo mecánico. \n",
    "</div>\n",
    "<div style=\"font-family:Segoe UI;background-color:gainsboro;font-size:1em \">\n",
    "Simula primero un proceso en el que el volumen del gas aumenta. ¿El sistema recibe energía en forma de calor para provocar la expansión o libera energía en forma de calor? ¿Qué sucede con el trabajo mecánico?\n",
    "</div>\n",
    "<div style=\"font-family:Segoe UI;background-color:gainsboro;font-size:1em \">\n",
    "Ahora simula un proceso en el que el volumen del gas disminuye. ¿Qué sucede con la energía en forma de calor en este escenario? ¿Qué sucede con el trabajo mecánico?\n",
    "</div>"
   ]
  },
  {
   "cell_type": "code",
   "execution_count": 44,
   "id": "2bcba5dd-c7f2-4972-a6a1-c2c9e3db4cb7",
   "metadata": {},
   "outputs": [
    {
     "data": {
      "application/vnd.jupyter.widget-view+json": {
       "model_id": "825d894fd30749ae896c22619b41f0c1",
       "version_major": 2,
       "version_minor": 0
      },
      "text/plain": [
       "BoundedFloatText(value=5.0, description=' Vm1 (L/mol) =', max=20.0, min=5.0, step=0.1)"
      ]
     },
     "metadata": {},
     "output_type": "display_data"
    },
    {
     "data": {
      "application/vnd.jupyter.widget-view+json": {
       "model_id": "1a392e2e246a4069808c4f1cbc0b75f0",
       "version_major": 2,
       "version_minor": 0
      },
      "text/plain": [
       "BoundedFloatText(value=10.0, description=' Vm2 (L/mol) =', max=20.0, min=5.0, step=0.1)"
      ]
     },
     "metadata": {},
     "output_type": "display_data"
    },
    {
     "data": {
      "application/vnd.jupyter.widget-view+json": {
       "model_id": "5c242ffcc2c24e9895afd3488d700b55",
       "version_major": 2,
       "version_minor": 0
      },
      "text/plain": [
       "BoundedFloatText(value=100.0, description=' Presión (kPa) =', max=500.0, min=70.0, step=0.1)"
      ]
     },
     "metadata": {},
     "output_type": "display_data"
    },
    {
     "data": {
      "application/vnd.jupyter.widget-view+json": {
       "model_id": "694f66f3b59e459195377dcb5621006e",
       "version_major": 2,
       "version_minor": 0
      },
      "text/plain": [
       "Output()"
      ]
     },
     "metadata": {},
     "output_type": "display_data"
    },
    {
     "data": {
      "application/vnd.jupyter.widget-view+json": {
       "model_id": "85e6d4a4dea942559f9c88e782cf77a1",
       "version_major": 2,
       "version_minor": 0
      },
      "text/plain": [
       "Output()"
      ]
     },
     "metadata": {},
     "output_type": "display_data"
    },
    {
     "data": {
      "application/vnd.jupyter.widget-view+json": {
       "model_id": "0468c4650d7f40fca619382207edbe21",
       "version_major": 2,
       "version_minor": 0
      },
      "text/plain": [
       "Output()"
      ]
     },
     "metadata": {},
     "output_type": "display_data"
    }
   ],
   "source": [
    "volmin = widgets.BoundedFloatText(description=' Vm1 (L/mol) =',value=5, min=5, max=20, step=0.1)\n",
    "volmax = widgets.BoundedFloatText(description=' Vm2 (L/mol) =',value=10, min=5, max=20, step=0.1)\n",
    "presion = widgets.BoundedFloatText(description=' Presión (kPa) =',value=100, min=70, max=500, step=0.1)\n",
    "\n",
    "def temperatura (volmin,volmax,presion):\n",
    "    tmin = volmin*presion/8.314\n",
    "    tmax = volmax*presion/8.314\n",
    "    print (\"Tmin (K) =\", tmin)\n",
    "    print (\"Tmax (K) =\", tmax)\n",
    "    return (tmin, tmax)\n",
    "    \n",
    "def f3(volmin,volmax,presion):\n",
    "    tmin = volmin*presion/8.314\n",
    "    tmax = volmax*presion/8.314                  \n",
    "    x = np.linspace(1,60,500)\n",
    "    ec1=8.314*tmin/x\n",
    "    plt.plot(x,ec1, color='gray')\n",
    "    plt.ylim(0, 600)\n",
    "    plt.xlim(0, 30)\n",
    "    plt.xlabel('Volumen (L/mol)')\n",
    "    ec2=8.314*tmax/x\n",
    "    plt.plot(x,ec2, color='gray')\n",
    "    ec3=presion+x-x\n",
    "    plt.plot(x,ec3, color='blue')\n",
    "    graf1 = plt.fill_between(x,ec3, where =[(x>volmin) and (x<volmax) for x in x],color='gray', alpha=0.2)\n",
    "    graf2 = plt.fill_between(x,ec3, where =[(x>volmax) and (x<volmin) for x in x], color='gray', alpha=0.2)\n",
    "    plt.ylabel('Presión (kPa)')\n",
    "    if volmin<volmax:\n",
    "        display(graf1)\n",
    "    else:\n",
    "        display(graf2)    \n",
    "         \n",
    "def cilindro(volmin,volmax,presion):\n",
    "    fig, (ax1, ax2,ax3) = plt.subplots(1,3)\n",
    "    fig.tight_layout()\n",
    "    x= np.array([5,6,7,8])\n",
    "    y= np.array([volmin,volmin,volmin,volmin])\n",
    "    a= np.array([5,5,5])\n",
    "    b= np.array([0,8,30])\n",
    "    z= np.array([8,8,8])\n",
    "    w= np.array([0,8,30])\n",
    "    ax1.plot(x, y, color='black')\n",
    "    ax1.fill_between(x, y, alpha=0.25)\n",
    "    ax1.plot(a, b, color='black')\n",
    "    ax1.plot(z, w, color='black')\n",
    "    ax1.set_title('Estado inicial')\n",
    "    ax1.set_xticks([])\n",
    "    m= np.array([5,6,7,8])\n",
    "    n= np.array([volmax,volmax,volmax,volmax])\n",
    "    r= np.array([5,5,5])\n",
    "    s= np.array([0,8,30])\n",
    "    e= np.array([8,8,8])\n",
    "    i= np.array([0,8,30])\n",
    "    ax2.plot(m,n, color='black')\n",
    "    ax2.fill_between(m,n, alpha =0.25)\n",
    "    ax2.plot(r,s,color='black')\n",
    "    ax2.plot(e,i,color='black')\n",
    "    ax2.set_ylabel('Volumen molar (L/mol)')\n",
    "    ax1.set_ylabel('Volumen molar (L/mol)')\n",
    "    ax2.set_title('Estado final')\n",
    "    ax1.set_xlim(xmax=10, xmin=3)\n",
    "    ax2.set_xlim(xmax=10, xmin=3)\n",
    "    ax1.set_ylim(ymax=30, ymin=0)\n",
    "    ax2.set_ylim(ymax=30, ymin=0)\n",
    "    ax2.set_xticks([])\n",
    "    plt.subplots_adjust(right=3)\n",
    "    trabajo2 = -presion*(volmax-volmin)\n",
    "    calor2  = 20.7684*((volmax*presion/8.314)-(volmin*presion/8.314))-trabajo2\n",
    "    energiaa = \"Trabajo\"\n",
    "    energiab = \"Calor\"\n",
    "    ax3.bar(energiaa, trabajo2, width=0.8, color=\"darkgray\")\n",
    "    ax3.bar(energiab, calor2, width=0.8, color=\"salmon\")\n",
    "    ax3.set_ylim(ymax=10000, ymin=-10000)\n",
    "    ax3.set_ylabel('Energía transferida (J/mol)')\n",
    "    print (\"Trabajo (J/mol) =\", trabajo2)\n",
    "    print (\"Calor (J/mol) =\", calor2)\n",
    "    return(trabajo2, calor2)\n",
    "    return(ax1,ax2,ax3)\n",
    "    \n",
    "out1 = widgets.interactive_output(temperatura, {'volmin': volmin,'volmax': volmax,'presion': presion})\n",
    "out3 = widgets.interactive_output(f3, {'volmin': volmin,'volmax': volmax, 'presion': presion})\n",
    "out4 = widgets.interactive_output(cilindro, {'volmin': volmin, 'volmax': volmax, 'presion': presion})\n",
    "\n",
    "\n",
    "display(volmin)\n",
    "display(volmax)\n",
    "display(presion)\n",
    "display(out1)\n",
    "display(out4)\n",
    "display(out3)\n"
   ]
  },
  {
   "cell_type": "markdown",
   "id": "14054259-5261-4748-b817-4041268238cb",
   "metadata": {},
   "source": [
    "<div style=\"font-family:Segoe UI;background-color:gainsboro;font-size:1em \">\n",
    "Para que el gas se expanda en el proceso isobárico ¿qué necesita el sistema?\n",
    "</div>"
   ]
  },
  {
   "cell_type": "code",
   "execution_count": 16,
   "id": "7dbc952a-b2d6-4785-8ca2-fddff9c44c2e",
   "metadata": {},
   "outputs": [
    {
     "data": {
      "application/vnd.jupyter.widget-view+json": {
       "model_id": "ff8d40232a914dd58524eaac122fb5f2",
       "version_major": 2,
       "version_minor": 0
      },
      "text/plain": [
       "interactive(children=(RadioButtons(description=' ', options=('Transferir calor hacia los alrededores', 'Recibi…"
      ]
     },
     "metadata": {},
     "output_type": "display_data"
    }
   ],
   "source": [
    "def iso(ba):\n",
    "    if ba=='Transferir calor hacia los alrededores':\n",
    "        print('Incorrecto, el sistema debe recibir energía en forma de calor de los alrededores, por ejemplo una estufa u otra fuente de energía')\n",
    "    if ba =='Recibir calor de los alredores':\n",
    "        print('Correcto, el sistema recibe energía en forma de calor de los alredores, por ejemplo una estufa u otra fuente de energía')\n",
    "    else:\n",
    "        print(' ')\n",
    "ri=['Transferir calor hacia los alrededores','Recibir calor de los alredores']\n",
    "interact(iso, ba=widgets.RadioButtons(options=ri,disabled=False, value=None, index=None, label=None, description=' '));"
   ]
  },
  {
   "cell_type": "markdown",
   "id": "3b008bc8-b4f1-4541-b770-8a78bf2e3557",
   "metadata": {},
   "source": [
    "<div style=\"font-family:Segoe UI;background-color:gainsboro;font-size:1em \">\n",
    "Cuando el gas recibe energía en forma de calor ¿qué le sucede a la energía interna del sistema?\n",
    "</div>"
   ]
  },
  {
   "cell_type": "code",
   "execution_count": 15,
   "id": "db21921a-8425-44f5-a284-e0065271db88",
   "metadata": {},
   "outputs": [
    {
     "data": {
      "application/vnd.jupyter.widget-view+json": {
       "model_id": "51427bcd51e94eff9ebe77d79a391abe",
       "version_major": 2,
       "version_minor": 0
      },
      "text/plain": [
       "interactive(children=(RadioButtons(description=' ', options=('Aumenta', 'Disminuye'), value=None), Output()), …"
      ]
     },
     "metadata": {},
     "output_type": "display_data"
    }
   ],
   "source": [
    "def ter(na):\n",
    "    if na=='Aumenta':\n",
    "        print('Correcto, la energía interna de las partículas del sistema aumenta, haciendo que estas se mueven más rápido')\n",
    "    if na =='Disminuye':\n",
    "        print('Incorrecto, la energía en forma de calor hace que la energía interna de las partículas aumente, haciendo que las partículas se muevan más rápido')\n",
    "    else:\n",
    "        print(' ')\n",
    "ge=['Aumenta','Disminuye']\n",
    "interact(ter, na=widgets.RadioButtons(options=ge,disabled=False, value=None, index=None, label=None, description=' '));"
   ]
  },
  {
   "cell_type": "markdown",
   "id": "878dbdfc-ddbc-4ac4-b42c-9a822ed0b209",
   "metadata": {},
   "source": [
    "<div style=\"font-family:Segoe UI;background-color:gainsboro;font-size:1em \">\n",
    "Cuando el gana energía en forma de calor ¿qué sucede con la transferencia de energía en forma de trabajo mecánico?\n",
    "</div>"
   ]
  },
  {
   "cell_type": "code",
   "execution_count": 17,
   "id": "be1b12fb-3ce2-48ad-b77a-3ee179651daa",
   "metadata": {},
   "outputs": [
    {
     "data": {
      "application/vnd.jupyter.widget-view+json": {
       "model_id": "8e4927902eb746e697d89a2021c6f88d",
       "version_major": 2,
       "version_minor": 0
      },
      "text/plain": [
       "interactive(children=(RadioButtons(description=' ', options=('Se transfiere trabajo mecánico', 'Se absorve tra…"
      ]
     },
     "metadata": {},
     "output_type": "display_data"
    }
   ],
   "source": [
    "def tar(je):\n",
    "    if je=='Se transfiere trabajo mecánico':\n",
    "        print('Correcto, la sustancia aumenta su volumen impulsando las partículas hacia arriba en este sistema')\n",
    "    if je =='Se absorve trabajo mecánico':\n",
    "        print('Incorrecto, la sustancia aumenta su volumen impulsando las partículas hacia arriba en este sistema ')\n",
    "    else:\n",
    "        print(' ')\n",
    "ta=['Se transfiere trabajo mecánico','Se absorve trabajo mecánico']\n",
    "interact(tar, je=widgets.RadioButtons(options=ta,disabled=False, value=None, index=None, label=None, description=' '));"
   ]
  },
  {
   "cell_type": "markdown",
   "id": "5fc93b06-2d88-4879-a155-25960174023c",
   "metadata": {},
   "source": [
    "<div style=\"font-family:Segoe UI;background-color:gainsboro;font-size:1em \">\n",
    "En el escenario en el que el volumen del gas disminuye, ¿en qué dirección se debe transferir la energía en forma de calor?\n",
    "</div>"
   ]
  },
  {
   "cell_type": "code",
   "execution_count": 21,
   "id": "327fdc3d-5545-4243-b3d3-3f62a0d44917",
   "metadata": {},
   "outputs": [
    {
     "data": {
      "application/vnd.jupyter.widget-view+json": {
       "model_id": "418034ab5d3b4e5ca30ee71aa5aea03b",
       "version_major": 2,
       "version_minor": 0
      },
      "text/plain": [
       "interactive(children=(RadioButtons(description=' ', options=('Del sistema a los alrededores', 'De los alrededo…"
      ]
     },
     "metadata": {},
     "output_type": "display_data"
    }
   ],
   "source": [
    "def la(pi):\n",
    "    if pi=='Del sistema a los alrededores':\n",
    "        print('Correcto, el sistema debe perder energía en forma de calor')\n",
    "    if pi =='De los alrededores al sistema':\n",
    "        print('Incorrecto, el sistema debe perder energía en forma de calor')\n",
    "    else:\n",
    "        print(' ')\n",
    "ce=['Del sistema a los alrededores','De los alrededores al sistema']\n",
    "interact(la, pi=widgets.RadioButtons(options=ce,disabled=False, value=None, index=None, label=None, description=' '));"
   ]
  },
  {
   "cell_type": "markdown",
   "id": "e1257aba-cbef-4392-99ea-d36aef7cbd91",
   "metadata": {},
   "source": [
    "$$\\require{cancel}$$  \n",
    "<div style=\"font-family:Segoe UI;background-color:gainsboro;font-size:1em \">\n",
    "Ahora veamos el caso de un gas ideal sometido a un proceso isotérmico. Podemos empezar expresando el balance de energía matemáticamente como:\n",
    "</div>\n",
    "<div style=\"font-family:Segoe UI;background-color:gainsboro;font-size:1em; text-align:center; \">\n",
    "$dU=dQ+dW$\n",
    "</div>\n",
    "El diferencial de energía interna de un gas ideal es:\n",
    "<div style=\"font-family:Segoe UI;background-color:gainsboro;font-size:1em; text-align:center; \">\n",
    "$dU=C_{v}dT$\n",
    "</div>\n",
    "<div style=\"font-family:Segoe UI;background-color:gainsboro;font-size:1em \">\n",
    "Si la expresión se integra se obtiene:\n",
    "</div>\n",
    "<div style=\"font-family:Segoe UI;background-color:gainsboro;font-size:1em; text-align:center; \">\n",
    "$ΔU=C_{v}ΔT=C_{v}(T_{final}-T_{inicial})$\n",
    "</div>\n",
    "<div style=\"font-family:Segoe UI;background-color:gainsboro;font-size:1em \">\n",
    "Dado que se trata de un proceso isotérmico (a temperatura constante) el cambio de temperatura es igual a cero:\n",
    "</div>\n",
    "<div style=\"font-family:Segoe UI;background-color:gainsboro;font-size:1em; text-align:center; \">\n",
    "$ΔU=0$\n",
    "</div>\n",
    "<div style=\"font-family:Segoe UI;background-color:gainsboro;font-size:1em; text-align:center; \">\n",
    "$dU=0$\n",
    "</div>\n",
    "<div style=\"font-family:Segoe UI;background-color:gainsboro;font-size:1em \">\n",
    "Con esto el balance de energía se modifica de esta manera:\n",
    "</div>\n",
    "<div style=\"font-family:Segoe UI;background-color:gainsboro;font-size:1em; text-align:center; \">\n",
    "$dU=dQ+dW$\n",
    "</div>\n",
    "<div style=\"font-family:Segoe UI;background-color:gainsboro;font-size:1em; text-align:center; \">\n",
    "$\\cancel{dU}=dQ+dW$\n",
    "</div>\n",
    "<div style=\"font-family:Segoe UI;background-color:gainsboro;font-size:1em; text-align:center; \">\n",
    "$dQ=-dW$\n",
    "</div>\n",
    "<div style=\"font-family:Segoe UI;background-color:gainsboro;font-size:1em \">\n",
    "Esto quiere decir que si un gas ideal se somete a un proceso isotérmico la cantidad de energía intercambiada con los alrededores en forma de calor es igual al negativo de la energía intercambiada en forma de trabajo mecánico. Es decir que el calor y el trabajo en este caso tienen la misma magnitud pero diferente signo.\n",
    "</div>\n",
    "\n",
    "\n",
    "\n",
    "\n"
   ]
  },
  {
   "cell_type": "markdown",
   "id": "b8b20a99-86ce-4c75-b777-9c4c8d7392fa",
   "metadata": {},
   "source": [
    "<div style=\"font-family:Segoe UI;background-color:gainsboro;font-size:1em \">\n",
    "Lo anterior implica que si estimamos el trabajo mecánico también estaremos estimando la energía intercambiada como calor. Al tratarse de un sistema cerrado la ecuación para estimar el trabajo mecánico es:\n",
    "</div>\n",
    "<div style=\"font-family:Segoe UI;background-color:gainsboro;font-size:1em; text-align:center; \">\n",
    "$dW=-PdV$\n",
    "</div>\n",
    "<div style=\"font-family:Segoe UI;background-color:gainsboro;font-size:1em \">\n",
    "La variable de integración en la expresión del lado derecho de la ecuación es el volumen, pero la presión también aparece en la ecuación, y en el proceso isotérmico la presión no permance constate. Entonces, para poder resolver la integral, la presión se reemplaza por una expresión matemática que exprese la relación entre volumen y presión, la ecuación de estado, en este caso gas ideal.\n",
    "</div>\n",
    "<div style=\"font-family:Segoe UI;background-color:gainsboro;font-size:1em; text-align:center; \">\n",
    "$dW=-\\frac{RT}{V}dV$\n",
    "</div>\n",
    "<div style=\"font-family:Segoe UI;background-color:gainsboro;font-size:1em \">\n",
    "Al integrar se toman como límites de integración el volumen inicial y el volumen final:\n",
    "</div>\n",
    "<div style=\"font-family:Segoe UI;background-color:gainsboro;font-size:1em; text-align:center; \"> \n",
    "$\\int\\,dW=-\\int\\,\\frac{RT}{V}dV $\n",
    "</div>\n",
    "<div style=\"font-family:Segoe UI;background-color:gainsboro;font-size:1em \">\n",
    "Resolviendo la integral obtenemos:\n",
    "</div>\n",
    "<div style=\"font-family:Segoe UI;background-color:gainsboro;font-size:1em; text-align:center; \"> \n",
    "$W=-RT(\\frac{1}{V_{final}}-\\frac{1}{V_{inicial}})$\n",
    "</div>\n",
    "\n"
   ]
  },
  {
   "cell_type": "markdown",
   "id": "6084073e-a3a2-4d74-bf92-8ff86150be6f",
   "metadata": {},
   "source": [
    "<div style=\"font-family:Segoe UI;background-color:gainsboro;font-size:1em \">\n",
    "Ahora puedes utilizar las siguientes ilustraciones para evaluar que sucede con un gas ideal sometido a un proceso isotérmico reversible. En este caso puedes elegir el volumen inicial y el volumen final, ambos en un rango de 2 a 20 L/mol. Evalúa dos posibilidades: primero que el volumen del gas aumente, y luego que el volumen del gas disminuya.\n",
    "</div>"
   ]
  },
  {
   "cell_type": "code",
   "execution_count": 11,
   "id": "0683b1eb-f38e-4fde-8561-f8e5dabb3057",
   "metadata": {},
   "outputs": [
    {
     "data": {
      "application/vnd.jupyter.widget-view+json": {
       "model_id": "dd1d3b154241437b9989f4f6ef36f530",
       "version_major": 2,
       "version_minor": 0
      },
      "text/plain": [
       "BoundedFloatText(value=5.0, description=' Vm1 (L/mol) =', max=20.0, min=2.0, step=0.1)"
      ]
     },
     "metadata": {},
     "output_type": "display_data"
    },
    {
     "data": {
      "application/vnd.jupyter.widget-view+json": {
       "model_id": "4c48d2c0c84841a6801608e3edc14081",
       "version_major": 2,
       "version_minor": 0
      },
      "text/plain": [
       "BoundedFloatText(value=10.0, description=' Vm2 (L/mol) =', max=20.0, min=2.0, step=0.1)"
      ]
     },
     "metadata": {},
     "output_type": "display_data"
    },
    {
     "data": {
      "application/vnd.jupyter.widget-view+json": {
       "model_id": "2310352f3ea0498eb13ea9d4b7937c0f",
       "version_major": 2,
       "version_minor": 0
      },
      "text/plain": [
       "Output()"
      ]
     },
     "metadata": {},
     "output_type": "display_data"
    },
    {
     "data": {
      "application/vnd.jupyter.widget-view+json": {
       "model_id": "4564d67c5bba4ebfae8b40bd98e87ead",
       "version_major": 2,
       "version_minor": 0
      },
      "text/plain": [
       "Output()"
      ]
     },
     "metadata": {},
     "output_type": "display_data"
    }
   ],
   "source": [
    "volmin = widgets.BoundedFloatText(description=' Vm1 (L/mol) =',value=5, min=2, max=20, step=0.1)\n",
    "volmax = widgets.BoundedFloatText(description=' Vm2 (L/mol) =',value=10, min=2, max=20, step=0.1)\n",
    " \n",
    "def f4(volmin,volmax):\n",
    "    x = np.linspace(1,20,500)\n",
    "    ec=8.314*298.15/x\n",
    "    plt.plot(x,ec)\n",
    "    plt.ylim(0, 1000)\n",
    "    graf1 = plt.fill_between(x,ec, where =[(x>volmin) and (x<volmax) for x in x],color='gray', alpha=0.2)\n",
    "    graf2 = plt.fill_between(x,ec, where =[(x>volmax) and (x<volmin) for x in x],color='gray', alpha=0.2)\n",
    "    plt.xlabel('Volumen (L/mol)')\n",
    "    plt.ylabel('Presión (kPa)')\n",
    "    if volmin<volmax:\n",
    "        display(graf1)\n",
    "    else:\n",
    "        display(graf2)  \n",
    "         \n",
    "def cilindro2(volmin,volmax):\n",
    "    fig, (ax1, ax2,ax3) = plt.subplots(1,3)\n",
    "    fig.tight_layout()\n",
    "    x= np.array([5,6,7,8])\n",
    "    y= np.array([volmin,volmin,volmin,volmin])\n",
    "    a= np.array([5,5,5])\n",
    "    b= np.array([0,8,30])\n",
    "    z= np.array([8,8,8])\n",
    "    w= np.array([0,8,30])\n",
    "    ax1.plot(x, y, color='black')\n",
    "    ax1.fill_between(x, y, alpha=0.25)\n",
    "    ax1.plot(a, b, color='black')\n",
    "    ax1.plot(z, w, color='black')\n",
    "    ax1.set_title('Estado inicial')\n",
    "    ax1.set_xticks([])\n",
    "    m= np.array([5,6,7,8])\n",
    "    n= np.array([volmax,volmax,volmax,volmax])\n",
    "    r= np.array([5,5,5])\n",
    "    s= np.array([0,8,30])\n",
    "    e= np.array([8,8,8])\n",
    "    i= np.array([0,8,30])\n",
    "    ax2.plot(m,n, color='black')\n",
    "    ax2.fill_between(m,n, alpha =0.25)\n",
    "    ax2.plot(r,s,color='black')\n",
    "    ax2.plot(e,i,color='black')\n",
    "    ax2.set_ylabel('Volumen molar (L/mol)')\n",
    "    ax1.set_ylabel('Volumen molar (L/mol)')\n",
    "    ax2.set_title('Estado final')\n",
    "    ax1.set_xlim(xmax=10, xmin=3)\n",
    "    ax2.set_xlim(xmax=10, xmin=3)\n",
    "    ax2.set_xticks([])\n",
    "    plt.subplots_adjust(right=3)\n",
    "    pres1=8.314*298.15/volmin\n",
    "    pres2=8.314*298.15/volmax\n",
    "    trabajoinf=2478.8191*sp.log(volmin).evalf()\n",
    "    trabajosup=2478.8191*sp.log(volmax).evalf()\n",
    "    trabajo3 = -(trabajosup-trabajoinf).evalf()\n",
    "    calor3 = -trabajo3\n",
    "    energia3 = \"Trabajo\"\n",
    "    energi3a = \"Calor\"\n",
    "    ax3.bar(energia3, trabajo3, width=0.8, color=\"darkgray\")\n",
    "    ax3.bar(energi3a, calor3, width=0.8, color=\"salmon\")\n",
    "    ax3.set_ylim(ymax=10000, ymin=-10000)\n",
    "    ax3.set_ylabel('Energía transferida (J/mol)')\n",
    "    print (\"Presión 1 (kPa) =\", pres1)\n",
    "    print (\"Presión 2 (kPa) =\", pres2)\n",
    "    print (\"Trabajo (J/mol) =\", trabajo3)\n",
    "    print (\"Calor (J/mol) =\", calor3)\n",
    "    return(trabajo3, calor3)\n",
    "    return(ax1,ax2,ax3)\n",
    "    \n",
    "out5 = widgets.interactive_output(f4, {'volmin': volmin,'volmax': volmax})\n",
    "out6 = widgets.interactive_output(cilindro2, {'volmin': volmin, 'volmax': volmax})\n",
    "\n",
    "\n",
    "display(volmin)\n",
    "display(volmax)\n",
    "display(out6)\n",
    "display(out5)"
   ]
  },
  {
   "cell_type": "markdown",
   "id": "9bba71b8-61af-41f3-8be3-7b362f787450",
   "metadata": {},
   "source": [
    "<div style=\"font-family:Segoe UI;background-color:gainsboro;font-size:1em \">\n",
    "En el escenario en el que el volumen del gas aumenta de forma isotérmica ¿el sistema requiere intercambiar energía en forma de calor con los alrededores?\n",
    "</div>"
   ]
  },
  {
   "cell_type": "code",
   "execution_count": 7,
   "id": "8f2db1ed-5d31-4582-b6db-b8e6c7459dba",
   "metadata": {},
   "outputs": [
    {
     "data": {
      "application/vnd.jupyter.widget-view+json": {
       "model_id": "f57084e83a324eed973f168a5a4dc62b",
       "version_major": 2,
       "version_minor": 0
      },
      "text/plain": [
       "interactive(children=(RadioButtons(description=' ', options=('Si', 'No'), value=None), Output()), _dom_classes…"
      ]
     },
     "metadata": {},
     "output_type": "display_data"
    }
   ],
   "source": [
    "def aum(men):\n",
    "    if men=='Si':\n",
    "        print('Correcto, el sistema necesita recibir energía en forma de calor. ¿Por qué?')\n",
    "    if men =='No':\n",
    "        print('Incorrecto, el sistema si necesita recibir energía en forma de calor. ¿Por qué?')\n",
    "    else:\n",
    "        print(' ')\n",
    "min=['Si','No']\n",
    "interact(aum, men=widgets.RadioButtons(options=min,disabled=False, value=None, index=None, label=None, description=' '));"
   ]
  },
  {
   "cell_type": "markdown",
   "id": "f483de03-1202-44d8-a617-78be5f193966",
   "metadata": {},
   "source": [
    "<div style=\"font-family:Segoe;background-color:gainsboro;font-size:1em \">\n",
    "En el proceso isotérmico, cuando el volumen del gas aumenta ¿cuál es la dirección de inetercambio de energía en forma de calor entre el sistema y los alrededores?\n",
    "</div>"
   ]
  },
  {
   "cell_type": "code",
   "execution_count": 9,
   "id": "0fe2a1dd-4b12-420d-98c1-1f027d222a4a",
   "metadata": {},
   "outputs": [
    {
     "data": {
      "application/vnd.jupyter.widget-view+json": {
       "model_id": "e31b2b705c6b4c1198d870c4248830df",
       "version_major": 2,
       "version_minor": 0
      },
      "text/plain": [
       "interactive(children=(RadioButtons(description=' ', options=('Del sistema hacia los alrededores', 'De los alre…"
      ]
     },
     "metadata": {},
     "output_type": "display_data"
    }
   ],
   "source": [
    "def ot(no):\n",
    "    if no=='Del sistema hacia los alrededores':\n",
    "        print('Correcto, el sistema transfiere energía en forma de trabajo hacia los alrededores')\n",
    "    if no =='De los alrededores hacia el sistema':\n",
    "        print('Incorrecto, el sistema transfiere energía en forma de trabajo hacia los alrededores')\n",
    "    else:\n",
    "        print(' ')\n",
    "pri=['Del sistema hacia los alrededores','De los alrededores hacia el sistema']\n",
    "interact(ot, no=widgets.RadioButtons(options=pri,disabled=False, value=None, index=None, label=None, description=' '));"
   ]
  },
  {
   "cell_type": "markdown",
   "id": "a64cb7bd-9d62-4481-ae8b-69ed75f82fb4",
   "metadata": {},
   "source": [
    "<div style=\"font-family:Segoe UI;background-color:gainsboro;font-size:1em \">\n",
    "Si el proceso es isotérmico y se quiere reducir el volumen del gas, ¿cuál es la dirrección de intercambio de energía en forma de calor entre el sistema y los alrededores?\n",
    "</div>"
   ]
  },
  {
   "cell_type": "code",
   "execution_count": 12,
   "id": "581cbca6-9f54-4e64-985e-56cfacc0527d",
   "metadata": {},
   "outputs": [
    {
     "data": {
      "application/vnd.jupyter.widget-view+json": {
       "model_id": "fec93f95246042a3a3460ebf4d21e16d",
       "version_major": 2,
       "version_minor": 0
      },
      "text/plain": [
       "interactive(children=(RadioButtons(description=' ', options=('Del sistema hacia los alrededores', 'De los alre…"
      ]
     },
     "metadata": {},
     "output_type": "display_data"
    }
   ],
   "source": [
    "def ver(ra):\n",
    "    if ra=='Del sistema hacia los alrededores':\n",
    "        print('Incorrecto, el sistema debe perder energía en forma de calor y liberarla hacia los alrededores, de lo contrario el volumen del gas aumentaría')\n",
    "    if ra=='De los alrededores hacia el sistema':\n",
    "        print('Correcto, el sistema debe perder energía en forma de calor y liberarla hacia los alredores')\n",
    "    else:\n",
    "        print(' ')\n",
    "mo=['Del sistema hacia los alrededores','De los alrededores hacia el sistema']\n",
    "interact(ver, ra=widgets.RadioButtons(options=mo,disabled=False, value=None, index=None, label=None, description=' '));"
   ]
  },
  {
   "cell_type": "code",
   "execution_count": 11,
   "id": "7ea801a3-3247-4cdc-a43e-2a813aff6901",
   "metadata": {},
   "outputs": [
    {
     "name": "stdout",
     "output_type": "stream",
     "text": [
      "Python implementation: CPython\n",
      "Python version       : 3.11.7\n",
      "IPython version      : 8.20.0\n",
      "\n",
      "matplotlib: 3.8.0\n",
      "numpy     : 1.26.4\n",
      "sympy     : 1.12\n",
      "ipywidgets: 8.0.0\n",
      "voila     : 0.5.7\n",
      "\n",
      "Compiler    : MSC v.1916 64 bit (AMD64)\n",
      "OS          : Windows\n",
      "Release     : 10\n",
      "Machine     : AMD64\n",
      "Processor   : Intel64 Family 6 Model 142 Stepping 10, GenuineIntel\n",
      "CPU cores   : 8\n",
      "Architecture: 64bit\n",
      "\n"
     ]
    }
   ],
   "source": [
    "%reload_ext watermark\n",
    "%watermark -v -m -p matplotlib,numpy,sympy,ipywidgets,voila"
   ]
  },
  {
   "cell_type": "code",
   "execution_count": null,
   "id": "d0066ac6-8881-4be2-9a7a-4bc1f701939a",
   "metadata": {},
   "outputs": [],
   "source": []
  }
 ],
 "metadata": {
  "kernelspec": {
   "display_name": "Python 3 (ipykernel)",
   "language": "python",
   "name": "python3"
  },
  "language_info": {
   "codemirror_mode": {
    "name": "ipython",
    "version": 3
   },
   "file_extension": ".py",
   "mimetype": "text/x-python",
   "name": "python",
   "nbconvert_exporter": "python",
   "pygments_lexer": "ipython3",
   "version": "3.11.7"
  }
 },
 "nbformat": 4,
 "nbformat_minor": 5
}
